{
 "cells": [
  {
   "cell_type": "code",
   "execution_count": 1,
   "id": "365d240b-d4e0-4fc1-9d9a-991c4e00f68b",
   "metadata": {},
   "outputs": [
    {
     "data": {
      "text/html": [
       "<div>\n",
       "<style scoped>\n",
       "    .dataframe tbody tr th:only-of-type {\n",
       "        vertical-align: middle;\n",
       "    }\n",
       "\n",
       "    .dataframe tbody tr th {\n",
       "        vertical-align: top;\n",
       "    }\n",
       "\n",
       "    .dataframe thead th {\n",
       "        text-align: right;\n",
       "    }\n",
       "</style>\n",
       "<table border=\"1\" class=\"dataframe\">\n",
       "  <thead>\n",
       "    <tr style=\"text-align: right;\">\n",
       "      <th></th>\n",
       "      <th>LEAGUE</th>\n",
       "      <th>NAME</th>\n",
       "      <th>DY+/-</th>\n",
       "      <th>PLAYER ID</th>\n",
       "      <th>POS</th>\n",
       "      <th>SEASON</th>\n",
       "      <th>GP</th>\n",
       "      <th>EV P1/GP</th>\n",
       "      <th>PP P1/GP</th>\n",
       "      <th>P1/GP</th>\n",
       "      <th>...</th>\n",
       "      <th>AGE DEC 31</th>\n",
       "      <th>#</th>\n",
       "      <th>TEAM</th>\n",
       "      <th>HT</th>\n",
       "      <th>SHOOTS</th>\n",
       "      <th>DRAFT YEAR</th>\n",
       "      <th>NHL DRAFT</th>\n",
       "      <th>DRAFT TEAM</th>\n",
       "      <th>NHL TEAM</th>\n",
       "      <th>HEATMAP</th>\n",
       "    </tr>\n",
       "  </thead>\n",
       "  <tbody>\n",
       "    <tr>\n",
       "      <th>0</th>\n",
       "      <td>QMJHL</td>\n",
       "      <td>Mavrik Bourque</td>\n",
       "      <td>DY+2</td>\n",
       "      <td>45337/mavrik-bourque</td>\n",
       "      <td>F</td>\n",
       "      <td>2022</td>\n",
       "      <td>31</td>\n",
       "      <td>0.9355</td>\n",
       "      <td>0.7419</td>\n",
       "      <td>1.7097</td>\n",
       "      <td>...</td>\n",
       "      <td>20.98</td>\n",
       "      <td>22</td>\n",
       "      <td>SHA</td>\n",
       "      <td>5'11</td>\n",
       "      <td>R</td>\n",
       "      <td>2020</td>\n",
       "      <td>DAL (2020) - #30</td>\n",
       "      <td>DAL</td>\n",
       "      <td>DAL</td>\n",
       "      <td>NaN</td>\n",
       "    </tr>\n",
       "    <tr>\n",
       "      <th>1</th>\n",
       "      <td>QMJHL</td>\n",
       "      <td>Joshua Roy</td>\n",
       "      <td>DY+1</td>\n",
       "      <td>46666/joshua-roy</td>\n",
       "      <td>F</td>\n",
       "      <td>2022</td>\n",
       "      <td>66</td>\n",
       "      <td>0.9394</td>\n",
       "      <td>0.4697</td>\n",
       "      <td>1.4242</td>\n",
       "      <td>...</td>\n",
       "      <td>19.40</td>\n",
       "      <td>10</td>\n",
       "      <td>SHE</td>\n",
       "      <td>6'00</td>\n",
       "      <td>L</td>\n",
       "      <td>2021</td>\n",
       "      <td>MTL (2021) - #150</td>\n",
       "      <td>MTL</td>\n",
       "      <td>MTL</td>\n",
       "      <td>NaN</td>\n",
       "    </tr>\n",
       "    <tr>\n",
       "      <th>2</th>\n",
       "      <td>QMJHL</td>\n",
       "      <td>William Dufour</td>\n",
       "      <td>DY+2</td>\n",
       "      <td>45391/william-dufour</td>\n",
       "      <td>F</td>\n",
       "      <td>2022</td>\n",
       "      <td>66</td>\n",
       "      <td>0.9394</td>\n",
       "      <td>0.3939</td>\n",
       "      <td>1.3636</td>\n",
       "      <td>...</td>\n",
       "      <td>20.93</td>\n",
       "      <td>28</td>\n",
       "      <td>SNB</td>\n",
       "      <td>6'03</td>\n",
       "      <td>R</td>\n",
       "      <td>2020</td>\n",
       "      <td>NYI (2020) - #152</td>\n",
       "      <td>NYI</td>\n",
       "      <td>NYI</td>\n",
       "      <td>NaN</td>\n",
       "    </tr>\n",
       "    <tr>\n",
       "      <th>3</th>\n",
       "      <td>QMJHL</td>\n",
       "      <td>Zachary Bolduc</td>\n",
       "      <td>DY+1</td>\n",
       "      <td>46505/zachary-bolduc</td>\n",
       "      <td>F</td>\n",
       "      <td>2022</td>\n",
       "      <td>65</td>\n",
       "      <td>0.9846</td>\n",
       "      <td>0.3231</td>\n",
       "      <td>1.3385</td>\n",
       "      <td>...</td>\n",
       "      <td>19.85</td>\n",
       "      <td>15</td>\n",
       "      <td>QUE</td>\n",
       "      <td>6'01</td>\n",
       "      <td>L</td>\n",
       "      <td>2021</td>\n",
       "      <td>STL (2021) - #17</td>\n",
       "      <td>STL</td>\n",
       "      <td>STL</td>\n",
       "      <td>NaN</td>\n",
       "    </tr>\n",
       "    <tr>\n",
       "      <th>4</th>\n",
       "      <td>QMJHL</td>\n",
       "      <td>Xavier Simoneau</td>\n",
       "      <td>DY+3</td>\n",
       "      <td>44835/xavier-simoneau</td>\n",
       "      <td>F</td>\n",
       "      <td>2022</td>\n",
       "      <td>48</td>\n",
       "      <td>0.9167</td>\n",
       "      <td>0.3125</td>\n",
       "      <td>1.3333</td>\n",
       "      <td>...</td>\n",
       "      <td>21.62</td>\n",
       "      <td>81</td>\n",
       "      <td>CHA</td>\n",
       "      <td>5'07</td>\n",
       "      <td>L</td>\n",
       "      <td>2019</td>\n",
       "      <td>MTL (2021) - #191</td>\n",
       "      <td>MTL</td>\n",
       "      <td>MTL</td>\n",
       "      <td>NaN</td>\n",
       "    </tr>\n",
       "  </tbody>\n",
       "</table>\n",
       "<p>5 rows × 52 columns</p>\n",
       "</div>"
      ],
      "text/plain": [
       "  LEAGUE             NAME DY+/-              PLAYER ID POS  SEASON  GP  \\\n",
       "0  QMJHL   Mavrik Bourque  DY+2   45337/mavrik-bourque   F    2022  31   \n",
       "1  QMJHL       Joshua Roy  DY+1       46666/joshua-roy   F    2022  66   \n",
       "2  QMJHL   William Dufour  DY+2   45391/william-dufour   F    2022  66   \n",
       "3  QMJHL   Zachary Bolduc  DY+1   46505/zachary-bolduc   F    2022  65   \n",
       "4  QMJHL  Xavier Simoneau  DY+3  44835/xavier-simoneau   F    2022  48   \n",
       "\n",
       "   EV P1/GP  PP P1/GP   P1/GP  ...  AGE DEC 31   #  TEAM    HT  SHOOTS  \\\n",
       "0    0.9355    0.7419  1.7097  ...       20.98  22   SHA  5'11       R   \n",
       "1    0.9394    0.4697  1.4242  ...       19.40  10   SHE  6'00       L   \n",
       "2    0.9394    0.3939  1.3636  ...       20.93  28   SNB  6'03       R   \n",
       "3    0.9846    0.3231  1.3385  ...       19.85  15   QUE  6'01       L   \n",
       "4    0.9167    0.3125  1.3333  ...       21.62  81   CHA  5'07       L   \n",
       "\n",
       "   DRAFT YEAR          NHL DRAFT  DRAFT TEAM  NHL TEAM  HEATMAP  \n",
       "0        2020   DAL (2020) - #30         DAL       DAL      NaN  \n",
       "1        2021  MTL (2021) - #150         MTL       MTL      NaN  \n",
       "2        2020  NYI (2020) - #152         NYI       NYI      NaN  \n",
       "3        2021   STL (2021) - #17         STL       STL      NaN  \n",
       "4        2019  MTL (2021) - #191         MTL       MTL      NaN  \n",
       "\n",
       "[5 rows x 52 columns]"
      ]
     },
     "execution_count": 1,
     "metadata": {},
     "output_type": "execute_result"
    }
   ],
   "source": [
    "import pandas as pd\n",
    "import numpy as np\n",
    "import matplotlib.pyplot as plt\n",
    "import matplotlib.gridspec as gridspec \n",
    "import matplotlib.patheffects as path_effects\n",
    "from matplotlib.transforms import Affine2D\n",
    "import mpl_toolkits.axisartist.floating_axes as floating_axes\n",
    "from hockey_rink import NHLRink\n",
    "\n",
    "#%%\n",
    "\n",
    "df = pd.read_csv(\"/Users/max/Downloads/Pick224-2022-09-16.csv\")\n",
    "\n",
    "teams = df.TEAM.unique().tolist()\n",
    "\n",
    "new_teams = [x for x in teams if len(x) <= 3]\n",
    "\n",
    "df['EV GF%Rel'] = df['EV GF%Rel'].str.replace(\" \",\"\")\n",
    "\n",
    "df['EV GF%Rel'] = pd.to_numeric(df['EV GF%Rel'],errors='raise')\n",
    "\n",
    "df.head()"
   ]
  },
  {
   "cell_type": "code",
   "execution_count": 38,
   "id": "7c84310d-3346-4ffa-a69d-b6ab7dbdc886",
   "metadata": {},
   "outputs": [
    {
     "data": {
      "application/vnd.plotly.v1+json": {
       "config": {
        "plotlyServerURL": "https://plot.ly"
       },
       "data": [
        {
         "boxpoints": "all",
         "hovertext": [
          "Alex Mercier",
          "Alexandre Blais",
          "Loic Goyette",
          "Logan Crosby",
          "Justin Gendron"
         ],
         "jitter": 0.5,
         "marker": {
          "size": 4
         },
         "name": "DY-2",
         "quartilemethod": "linear",
         "type": "box",
         "whiskerwidth": 0.2,
         "y": [
          0.4286,
          0.2857,
          0.1579,
          0.1522,
          0.14
         ]
        },
        {
         "boxpoints": "all",
         "hovertext": [
          "Mathieu Cataford",
          "Ethan Gauthier",
          "Thomas Auger",
          "Andrei Loshko",
          "Tyler Peddle",
          "Cam Squires",
          "Alexis Bourque",
          "Maxime Coursol",
          "Joseph Henneberry",
          "Miles Mueller",
          "Nathan Baril",
          "Vincent Collard",
          "Mael Lavigne",
          "Justin Sullivan",
          "Justin Larose",
          "Matis Ouellet",
          "Natan Ethier",
          "Vincent Gauthier",
          "Emmanuel Vermette",
          "Mael St-Denis",
          "Justin Boisselle",
          "Julien Rod",
          "Noah Ryan",
          "Manix Sarrasin",
          "Cameron Henderson",
          "Sam Bowness",
          "Charles-Olivier Villeneuve",
          "Nicolas Hogue",
          "Sam-Luca Thifault"
         ],
         "jitter": 0.5,
         "marker": {
          "size": 4
         },
         "name": "DY-1",
         "quartilemethod": "linear",
         "type": "box",
         "whiskerwidth": 0.2,
         "y": [
          0.5,
          0.4462,
          0.4419,
          0.4375,
          0.4308,
          0.4219,
          0.3333,
          0.3137,
          0.3088,
          0.2615,
          0.2615,
          0.2615,
          0.2542,
          0.2273,
          0.2034,
          0.2,
          0.2,
          0.1944,
          0.1875,
          0.1803,
          0.1667,
          0.1607,
          0.1154,
          0.1053,
          0.1,
          0.0652,
          0.0588,
          0.0526,
          0
         ]
        },
        {
         "boxpoints": "all",
         "hovertext": [
          "Jordan Dumais",
          "Nathan Gaucher",
          "Markus Vidicek",
          "Justin Cote",
          "Pier-Olivier Roy (02)",
          "Yoan Loshing",
          "Antonin Verreault",
          "Alexis Gendron",
          "Daniil Bourosh",
          "Maxim Barbashev",
          "Luke Woodworth",
          "Jacob Mathieu",
          "Alexis Brisson",
          "Mikael Denis",
          "Sam Oliver",
          "Thomas Begin",
          "Alex Blais",
          "Jacob Newcombe",
          "Samuel Savoie",
          "Jonathan Fauchon",
          "Louis-Philippe Fontaine",
          "Dylan Andrews",
          "Nikita Prishchepov",
          "James Swan",
          "Cam Thomson",
          "Jakub Hujer",
          "Jonas Taibel",
          "Mathis Perron",
          "Felix Gagnon",
          "Michael Horth",
          "Simon Hughes",
          "Colin Ratt",
          "Jeremie Minville",
          "Peter Repcik",
          "Yegor Goryunov",
          "Donovan Arsenault",
          "Jason Desruisseaux",
          "Cameron MacLean",
          "Braeden MacPhee",
          "Nathan Casey",
          "Leighton Carruthers",
          "Nico Laforge",
          "Hugo Primeau",
          "Matthew MacDonald",
          "Alexis Bonefon",
          "Kassim Gaudet",
          "Xavier Roy",
          "Alexandre Nadeau",
          "Jacob Lafontaine",
          "Alpha Barry",
          "Joey Vetrano",
          "Jarrett Todd",
          "Charles-Antoine Tremblay",
          "Colby Huggan",
          "Julien Paille",
          "Felix Riverin",
          "Felix Bedard",
          "Zachary Marquis-Laflamme",
          "Jean-Raphael Roy",
          "Raphael Blouin",
          "Luka Gomboc",
          "Frederic Potvin",
          "Antoine Roy",
          "Alexandre Lefebvre",
          "Lucas Canning",
          "Charles-Antoine Lavallee",
          "Markus Suchy",
          "Alexandre Lamarre",
          "Sam Archibald",
          "Kiefer Lyons"
         ],
         "jitter": 0.5,
         "marker": {
          "size": 4
         },
         "name": "DY",
         "quartilemethod": "linear",
         "type": "box",
         "whiskerwidth": 0.2,
         "y": [
          1.2059,
          0.7121,
          0.6912,
          0.6875,
          0.625,
          0.62,
          0.6071,
          0.5758,
          0.5672,
          0.5254,
          0.4853,
          0.4706,
          0.4565,
          0.4426,
          0.4348,
          0.4324,
          0.4318,
          0.4091,
          0.4063,
          0.3594,
          0.3438,
          0.3279,
          0.3231,
          0.3214,
          0.3125,
          0.3061,
          0.2982,
          0.2692,
          0.2687,
          0.2679,
          0.25,
          0.2439,
          0.2407,
          0.2333,
          0.2308,
          0.2188,
          0.2167,
          0.2075,
          0.2,
          0.2,
          0.1912,
          0.1905,
          0.1833,
          0.1818,
          0.1765,
          0.1739,
          0.1724,
          0.1695,
          0.1452,
          0.1429,
          0.1404,
          0.14,
          0.1395,
          0.1395,
          0.1333,
          0.1333,
          0.1273,
          0.122,
          0.12,
          0.1091,
          0.1,
          0.0984,
          0.0984,
          0.0882,
          0.0698,
          0.0625,
          0.0588,
          0.0465,
          0.037,
          0.0263
         ]
        },
        {
         "boxpoints": "all",
         "hovertext": [
          "Joshua Roy",
          "Zachary Bolduc",
          "Xavier Bourgault",
          "Riley Kidney",
          "Zachary L'Heureux",
          "Olivier Nadeau",
          "Jacob Melanson",
          "Tommy Cormier",
          "Zach Dean",
          "Justin Robidas",
          "Jakub Brabenec",
          "Maxime Pellerin",
          "William Dumoulin",
          "Alexander Mirzabalayev",
          "Marshall Lessard",
          "Samuel Johnson",
          "Oleksii Myklukha",
          "James Malatesta",
          "Peter Reynolds",
          "Robert Orr",
          "Israel Mianscum",
          "Charles Boutin",
          "Cole Huckins",
          "Manix Landry",
          "Justin Gill",
          "Lorenzo Canonica",
          "Alexis Morin",
          "Viljami Marjala",
          "Alex Arsenault",
          "Xavier Filion",
          "Hakon Hanelt",
          "Cameron MacDonald",
          "Charles-Antoine Dumont",
          "Drew Elliott",
          "Louis Robin",
          "Isaac Dufort",
          "Anri Ravinskis",
          "Alexander Gaudio",
          "Anthony Di Cesare",
          "Mikael Huchette",
          "Andrew Belchamber",
          "Julien Beland",
          "Alexis Daniel",
          "Marc-Antoine Seguin",
          "Carter McCluskey",
          "Mathis Cloutier",
          "Anthony Turcotte",
          "Nolan Forster",
          "Ben Boyd",
          "Connor Trenholm",
          "Attilio Biasca",
          "Fabrice Fortin",
          "Tristan Roy",
          "Julien Hebert",
          "Zachael Turgeon",
          "Zackary Michaud",
          "Lou-Felix Denis",
          "Milo Roelens",
          "Jaheem Lagace-Aurelien",
          "Jeremy Ste-Marie",
          "Kian Bell",
          "Loic Gibeault",
          "David Doucet",
          "Jordan Cote",
          "Charles Savoie",
          "Nicolas Pavan",
          "Landon Miron",
          "Daniel Agostino",
          "Hugo Audette",
          "Emile Gadoury",
          "Xavier Sarrasin",
          "Nick Blagden",
          "Davis Cooper",
          "Julien Bourget",
          "Jack Campbell",
          "Will Chisholm",
          "Ludovic Dufort",
          "Mathys Poulin",
          "Mikhail Nizovkin"
         ],
         "jitter": 0.5,
         "marker": {
          "size": 4
         },
         "name": "DY+1",
         "quartilemethod": "linear",
         "type": "box",
         "whiskerwidth": 0.2,
         "y": [
          1.4242,
          1.3385,
          1.2558,
          1.1212,
          0.913,
          0.8923,
          0.8704,
          0.8462,
          0.7872,
          0.7794,
          0.7414,
          0.6923,
          0.6615,
          0.6545,
          0.6429,
          0.6316,
          0.629,
          0.6176,
          0.5517,
          0.5397,
          0.5313,
          0.5283,
          0.5122,
          0.5079,
          0.5,
          0.4717,
          0.4627,
          0.4559,
          0.4531,
          0.4394,
          0.4375,
          0.4328,
          0.4308,
          0.4182,
          0.4151,
          0.4118,
          0.386,
          0.3788,
          0.3721,
          0.371,
          0.3636,
          0.3393,
          0.3284,
          0.322,
          0.3091,
          0.3065,
          0.3016,
          0.3,
          0.2895,
          0.2857,
          0.2821,
          0.2794,
          0.2742,
          0.2647,
          0.2308,
          0.225,
          0.2241,
          0.2128,
          0.2051,
          0.1967,
          0.1818,
          0.1739,
          0.1695,
          0.1667,
          0.1633,
          0.1607,
          0.1458,
          0.1429,
          0.1379,
          0.1273,
          0.122,
          0.1212,
          0.1194,
          0.1071,
          0.0794,
          0.0612,
          0.0426,
          0.0222,
          0
         ]
        },
        {
         "boxpoints": "all",
         "hovertext": [
          "Mavrik Bourque",
          "William Dufour",
          "Patrick Guay",
          "Elliot Desnoyers",
          "Theo Rochette",
          "Josh Lawrence",
          "Ryan Francis",
          "Hendrix Lapierre",
          "Philippe Daoust",
          "Evan Boucher",
          "Alexandre Doucet",
          "Ivan Ivan",
          "Raivis Ansons",
          "Luka Verreault",
          "Brady Burns",
          "Jeremy Lapointe",
          "Matej Kaslik",
          "Xavier Fortin",
          "Cole Cormier",
          "William Provost",
          "Alex Drover",
          "Thomas Belgarde",
          "Zachary Roy (02)",
          "Ben Allison",
          "William Veillette",
          "Vincent Labelle",
          "Loick Daigle",
          "Zachary Gravel",
          "Anthony Munroe-Boucher",
          "Charles Beaudoin",
          "Dawson Stairs",
          "Francis Langlois",
          "Stephane Huard",
          "Yevgeni Sapelnikov",
          "Jonah De Simone",
          "Senna Peeters",
          "Riley Bezeau",
          "Tristan Allard",
          "Patrick LeBlanc",
          "Olivier Coulombe",
          "Logan Camp",
          "Keiran Gallant",
          "Olivier Picard",
          "Owen Saye",
          "Jacob Chantler",
          "Yanic Crete",
          "Maximilien Ledoux",
          "Mathis Demers",
          "Nicolas Kingsbury-Fournier",
          "Paul Dore",
          "Alexis Dube"
         ],
         "jitter": 0.5,
         "marker": {
          "size": 4
         },
         "name": "DY+2",
         "quartilemethod": "linear",
         "type": "box",
         "whiskerwidth": 0.2,
         "y": [
          1.7097,
          1.3636,
          1.2206,
          1.1311,
          1.0758,
          1.0588,
          1.037,
          1,
          1,
          0.8919,
          0.8676,
          0.7692,
          0.7679,
          0.6885,
          0.6765,
          0.6716,
          0.6667,
          0.661,
          0.6418,
          0.5909,
          0.5909,
          0.5797,
          0.5741,
          0.5735,
          0.566,
          0.5577,
          0.537,
          0.5152,
          0.4821,
          0.48,
          0.4706,
          0.4706,
          0.4697,
          0.4118,
          0.3542,
          0.3529,
          0.3393,
          0.3235,
          0.32,
          0.3134,
          0.2969,
          0.2941,
          0.2097,
          0.2034,
          0.1944,
          0.1905,
          0.14,
          0.119,
          0.1136,
          0.0769,
          0
         ]
        },
        {
         "boxpoints": "all",
         "hovertext": [
          "Xavier Simoneau",
          "Felix Lafrance",
          "Xavier Parent",
          "Bennett MacArthur",
          "Xavier Cormier",
          "Simon Pinard",
          "William Rouleau",
          "Jeremy Michel",
          "Brett Budgell",
          "Brooklyn Kalmikov",
          "Pierrick Dube",
          "Mathieu Bizier",
          "Jacob Gaucher",
          "Julien Anctil",
          "Benjamin Corbeil",
          "Conor Frenette",
          "Kieran Craig",
          "Nicholas Girouard",
          "Charlie Da Fonseca",
          "Mathieu Gagnon",
          "Christophe Farmer",
          "Emile Hegarty-Aubin",
          "Zack Jones",
          "Logan Chisholm",
          "Zachary Beauregard",
          "Jeremy Martin",
          "Jacob Stewart",
          "Edouard Charron",
          "Ludovic Soucy",
          "Tristan Pelletier",
          "Liam Kidney"
         ],
         "jitter": 0.5,
         "marker": {
          "size": 4
         },
         "name": "DY+3",
         "quartilemethod": "linear",
         "type": "box",
         "whiskerwidth": 0.2,
         "y": [
          1.3333,
          1.3333,
          1.3231,
          1.2407,
          1.1321,
          1.1194,
          1,
          1,
          0.9552,
          0.9403,
          0.9167,
          0.8235,
          0.8182,
          0.806,
          0.7794,
          0.7727,
          0.7667,
          0.6875,
          0.6,
          0.5714,
          0.4828,
          0.4545,
          0.4545,
          0.4444,
          0.377,
          0.3556,
          0.3103,
          0.3051,
          0.2951,
          0.2667,
          0.2407
         ]
        }
       ],
       "layout": {
        "autosize": true,
        "margin": {
         "b": 80,
         "l": 40,
         "r": 30,
         "t": 100
        },
        "paper_bgcolor": "rgb(243, 243, 243)",
        "plot_bgcolor": "rgb(243, 243, 243)",
        "showlegend": false,
        "template": {
         "data": {
          "bar": [
           {
            "error_x": {
             "color": "#2a3f5f"
            },
            "error_y": {
             "color": "#2a3f5f"
            },
            "marker": {
             "line": {
              "color": "#E5ECF6",
              "width": 0.5
             },
             "pattern": {
              "fillmode": "overlay",
              "size": 10,
              "solidity": 0.2
             }
            },
            "type": "bar"
           }
          ],
          "barpolar": [
           {
            "marker": {
             "line": {
              "color": "#E5ECF6",
              "width": 0.5
             },
             "pattern": {
              "fillmode": "overlay",
              "size": 10,
              "solidity": 0.2
             }
            },
            "type": "barpolar"
           }
          ],
          "carpet": [
           {
            "aaxis": {
             "endlinecolor": "#2a3f5f",
             "gridcolor": "white",
             "linecolor": "white",
             "minorgridcolor": "white",
             "startlinecolor": "#2a3f5f"
            },
            "baxis": {
             "endlinecolor": "#2a3f5f",
             "gridcolor": "white",
             "linecolor": "white",
             "minorgridcolor": "white",
             "startlinecolor": "#2a3f5f"
            },
            "type": "carpet"
           }
          ],
          "choropleth": [
           {
            "colorbar": {
             "outlinewidth": 0,
             "ticks": ""
            },
            "type": "choropleth"
           }
          ],
          "contour": [
           {
            "colorbar": {
             "outlinewidth": 0,
             "ticks": ""
            },
            "colorscale": [
             [
              0,
              "#0d0887"
             ],
             [
              0.1111111111111111,
              "#46039f"
             ],
             [
              0.2222222222222222,
              "#7201a8"
             ],
             [
              0.3333333333333333,
              "#9c179e"
             ],
             [
              0.4444444444444444,
              "#bd3786"
             ],
             [
              0.5555555555555556,
              "#d8576b"
             ],
             [
              0.6666666666666666,
              "#ed7953"
             ],
             [
              0.7777777777777778,
              "#fb9f3a"
             ],
             [
              0.8888888888888888,
              "#fdca26"
             ],
             [
              1,
              "#f0f921"
             ]
            ],
            "type": "contour"
           }
          ],
          "contourcarpet": [
           {
            "colorbar": {
             "outlinewidth": 0,
             "ticks": ""
            },
            "type": "contourcarpet"
           }
          ],
          "heatmap": [
           {
            "colorbar": {
             "outlinewidth": 0,
             "ticks": ""
            },
            "colorscale": [
             [
              0,
              "#0d0887"
             ],
             [
              0.1111111111111111,
              "#46039f"
             ],
             [
              0.2222222222222222,
              "#7201a8"
             ],
             [
              0.3333333333333333,
              "#9c179e"
             ],
             [
              0.4444444444444444,
              "#bd3786"
             ],
             [
              0.5555555555555556,
              "#d8576b"
             ],
             [
              0.6666666666666666,
              "#ed7953"
             ],
             [
              0.7777777777777778,
              "#fb9f3a"
             ],
             [
              0.8888888888888888,
              "#fdca26"
             ],
             [
              1,
              "#f0f921"
             ]
            ],
            "type": "heatmap"
           }
          ],
          "heatmapgl": [
           {
            "colorbar": {
             "outlinewidth": 0,
             "ticks": ""
            },
            "colorscale": [
             [
              0,
              "#0d0887"
             ],
             [
              0.1111111111111111,
              "#46039f"
             ],
             [
              0.2222222222222222,
              "#7201a8"
             ],
             [
              0.3333333333333333,
              "#9c179e"
             ],
             [
              0.4444444444444444,
              "#bd3786"
             ],
             [
              0.5555555555555556,
              "#d8576b"
             ],
             [
              0.6666666666666666,
              "#ed7953"
             ],
             [
              0.7777777777777778,
              "#fb9f3a"
             ],
             [
              0.8888888888888888,
              "#fdca26"
             ],
             [
              1,
              "#f0f921"
             ]
            ],
            "type": "heatmapgl"
           }
          ],
          "histogram": [
           {
            "marker": {
             "pattern": {
              "fillmode": "overlay",
              "size": 10,
              "solidity": 0.2
             }
            },
            "type": "histogram"
           }
          ],
          "histogram2d": [
           {
            "colorbar": {
             "outlinewidth": 0,
             "ticks": ""
            },
            "colorscale": [
             [
              0,
              "#0d0887"
             ],
             [
              0.1111111111111111,
              "#46039f"
             ],
             [
              0.2222222222222222,
              "#7201a8"
             ],
             [
              0.3333333333333333,
              "#9c179e"
             ],
             [
              0.4444444444444444,
              "#bd3786"
             ],
             [
              0.5555555555555556,
              "#d8576b"
             ],
             [
              0.6666666666666666,
              "#ed7953"
             ],
             [
              0.7777777777777778,
              "#fb9f3a"
             ],
             [
              0.8888888888888888,
              "#fdca26"
             ],
             [
              1,
              "#f0f921"
             ]
            ],
            "type": "histogram2d"
           }
          ],
          "histogram2dcontour": [
           {
            "colorbar": {
             "outlinewidth": 0,
             "ticks": ""
            },
            "colorscale": [
             [
              0,
              "#0d0887"
             ],
             [
              0.1111111111111111,
              "#46039f"
             ],
             [
              0.2222222222222222,
              "#7201a8"
             ],
             [
              0.3333333333333333,
              "#9c179e"
             ],
             [
              0.4444444444444444,
              "#bd3786"
             ],
             [
              0.5555555555555556,
              "#d8576b"
             ],
             [
              0.6666666666666666,
              "#ed7953"
             ],
             [
              0.7777777777777778,
              "#fb9f3a"
             ],
             [
              0.8888888888888888,
              "#fdca26"
             ],
             [
              1,
              "#f0f921"
             ]
            ],
            "type": "histogram2dcontour"
           }
          ],
          "mesh3d": [
           {
            "colorbar": {
             "outlinewidth": 0,
             "ticks": ""
            },
            "type": "mesh3d"
           }
          ],
          "parcoords": [
           {
            "line": {
             "colorbar": {
              "outlinewidth": 0,
              "ticks": ""
             }
            },
            "type": "parcoords"
           }
          ],
          "pie": [
           {
            "automargin": true,
            "type": "pie"
           }
          ],
          "scatter": [
           {
            "fillpattern": {
             "fillmode": "overlay",
             "size": 10,
             "solidity": 0.2
            },
            "type": "scatter"
           }
          ],
          "scatter3d": [
           {
            "line": {
             "colorbar": {
              "outlinewidth": 0,
              "ticks": ""
             }
            },
            "marker": {
             "colorbar": {
              "outlinewidth": 0,
              "ticks": ""
             }
            },
            "type": "scatter3d"
           }
          ],
          "scattercarpet": [
           {
            "marker": {
             "colorbar": {
              "outlinewidth": 0,
              "ticks": ""
             }
            },
            "type": "scattercarpet"
           }
          ],
          "scattergeo": [
           {
            "marker": {
             "colorbar": {
              "outlinewidth": 0,
              "ticks": ""
             }
            },
            "type": "scattergeo"
           }
          ],
          "scattergl": [
           {
            "marker": {
             "colorbar": {
              "outlinewidth": 0,
              "ticks": ""
             }
            },
            "type": "scattergl"
           }
          ],
          "scattermapbox": [
           {
            "marker": {
             "colorbar": {
              "outlinewidth": 0,
              "ticks": ""
             }
            },
            "type": "scattermapbox"
           }
          ],
          "scatterpolar": [
           {
            "marker": {
             "colorbar": {
              "outlinewidth": 0,
              "ticks": ""
             }
            },
            "type": "scatterpolar"
           }
          ],
          "scatterpolargl": [
           {
            "marker": {
             "colorbar": {
              "outlinewidth": 0,
              "ticks": ""
             }
            },
            "type": "scatterpolargl"
           }
          ],
          "scatterternary": [
           {
            "marker": {
             "colorbar": {
              "outlinewidth": 0,
              "ticks": ""
             }
            },
            "type": "scatterternary"
           }
          ],
          "surface": [
           {
            "colorbar": {
             "outlinewidth": 0,
             "ticks": ""
            },
            "colorscale": [
             [
              0,
              "#0d0887"
             ],
             [
              0.1111111111111111,
              "#46039f"
             ],
             [
              0.2222222222222222,
              "#7201a8"
             ],
             [
              0.3333333333333333,
              "#9c179e"
             ],
             [
              0.4444444444444444,
              "#bd3786"
             ],
             [
              0.5555555555555556,
              "#d8576b"
             ],
             [
              0.6666666666666666,
              "#ed7953"
             ],
             [
              0.7777777777777778,
              "#fb9f3a"
             ],
             [
              0.8888888888888888,
              "#fdca26"
             ],
             [
              1,
              "#f0f921"
             ]
            ],
            "type": "surface"
           }
          ],
          "table": [
           {
            "cells": {
             "fill": {
              "color": "#EBF0F8"
             },
             "line": {
              "color": "white"
             }
            },
            "header": {
             "fill": {
              "color": "#C8D4E3"
             },
             "line": {
              "color": "white"
             }
            },
            "type": "table"
           }
          ]
         },
         "layout": {
          "annotationdefaults": {
           "arrowcolor": "#2a3f5f",
           "arrowhead": 0,
           "arrowwidth": 1
          },
          "autotypenumbers": "strict",
          "coloraxis": {
           "colorbar": {
            "outlinewidth": 0,
            "ticks": ""
           }
          },
          "colorscale": {
           "diverging": [
            [
             0,
             "#8e0152"
            ],
            [
             0.1,
             "#c51b7d"
            ],
            [
             0.2,
             "#de77ae"
            ],
            [
             0.3,
             "#f1b6da"
            ],
            [
             0.4,
             "#fde0ef"
            ],
            [
             0.5,
             "#f7f7f7"
            ],
            [
             0.6,
             "#e6f5d0"
            ],
            [
             0.7,
             "#b8e186"
            ],
            [
             0.8,
             "#7fbc41"
            ],
            [
             0.9,
             "#4d9221"
            ],
            [
             1,
             "#276419"
            ]
           ],
           "sequential": [
            [
             0,
             "#0d0887"
            ],
            [
             0.1111111111111111,
             "#46039f"
            ],
            [
             0.2222222222222222,
             "#7201a8"
            ],
            [
             0.3333333333333333,
             "#9c179e"
            ],
            [
             0.4444444444444444,
             "#bd3786"
            ],
            [
             0.5555555555555556,
             "#d8576b"
            ],
            [
             0.6666666666666666,
             "#ed7953"
            ],
            [
             0.7777777777777778,
             "#fb9f3a"
            ],
            [
             0.8888888888888888,
             "#fdca26"
            ],
            [
             1,
             "#f0f921"
            ]
           ],
           "sequentialminus": [
            [
             0,
             "#0d0887"
            ],
            [
             0.1111111111111111,
             "#46039f"
            ],
            [
             0.2222222222222222,
             "#7201a8"
            ],
            [
             0.3333333333333333,
             "#9c179e"
            ],
            [
             0.4444444444444444,
             "#bd3786"
            ],
            [
             0.5555555555555556,
             "#d8576b"
            ],
            [
             0.6666666666666666,
             "#ed7953"
            ],
            [
             0.7777777777777778,
             "#fb9f3a"
            ],
            [
             0.8888888888888888,
             "#fdca26"
            ],
            [
             1,
             "#f0f921"
            ]
           ]
          },
          "colorway": [
           "#636efa",
           "#EF553B",
           "#00cc96",
           "#ab63fa",
           "#FFA15A",
           "#19d3f3",
           "#FF6692",
           "#B6E880",
           "#FF97FF",
           "#FECB52"
          ],
          "font": {
           "color": "#2a3f5f"
          },
          "geo": {
           "bgcolor": "white",
           "lakecolor": "white",
           "landcolor": "#E5ECF6",
           "showlakes": true,
           "showland": true,
           "subunitcolor": "white"
          },
          "hoverlabel": {
           "align": "left"
          },
          "hovermode": "closest",
          "mapbox": {
           "style": "light"
          },
          "paper_bgcolor": "white",
          "plot_bgcolor": "#E5ECF6",
          "polar": {
           "angularaxis": {
            "gridcolor": "white",
            "linecolor": "white",
            "ticks": ""
           },
           "bgcolor": "#E5ECF6",
           "radialaxis": {
            "gridcolor": "white",
            "linecolor": "white",
            "ticks": ""
           }
          },
          "scene": {
           "xaxis": {
            "backgroundcolor": "#E5ECF6",
            "gridcolor": "white",
            "gridwidth": 2,
            "linecolor": "white",
            "showbackground": true,
            "ticks": "",
            "zerolinecolor": "white"
           },
           "yaxis": {
            "backgroundcolor": "#E5ECF6",
            "gridcolor": "white",
            "gridwidth": 2,
            "linecolor": "white",
            "showbackground": true,
            "ticks": "",
            "zerolinecolor": "white"
           },
           "zaxis": {
            "backgroundcolor": "#E5ECF6",
            "gridcolor": "white",
            "gridwidth": 2,
            "linecolor": "white",
            "showbackground": true,
            "ticks": "",
            "zerolinecolor": "white"
           }
          },
          "shapedefaults": {
           "line": {
            "color": "#2a3f5f"
           }
          },
          "ternary": {
           "aaxis": {
            "gridcolor": "white",
            "linecolor": "white",
            "ticks": ""
           },
           "baxis": {
            "gridcolor": "white",
            "linecolor": "white",
            "ticks": ""
           },
           "bgcolor": "#E5ECF6",
           "caxis": {
            "gridcolor": "white",
            "linecolor": "white",
            "ticks": ""
           }
          },
          "title": {
           "x": 0.05
          },
          "xaxis": {
           "automargin": true,
           "gridcolor": "white",
           "linecolor": "white",
           "ticks": "",
           "title": {
            "standoff": 15
           },
           "zerolinecolor": "white",
           "zerolinewidth": 2
          },
          "yaxis": {
           "automargin": true,
           "gridcolor": "white",
           "linecolor": "white",
           "ticks": "",
           "title": {
            "standoff": 15
           },
           "zerolinecolor": "white",
           "zerolinewidth": 2
          }
         }
        },
        "title": {
         "text": "Forwards Point per game in the QMJHL per DY status in 2022"
        },
        "xaxis": {
         "autorange": true,
         "range": [
          -0.5169491525423728,
          5.5
         ],
         "type": "category"
        },
        "yaxis": {
         "autorange": true,
         "dtick": 0.3,
         "gridcolor": "rgb(255, 255, 255)",
         "gridwidth": 1,
         "range": [
          -0.09498333333333334,
          1.8046833333333334
         ],
         "showgrid": true,
         "type": "linear",
         "zeroline": true,
         "zerolinecolor": "rgb(255, 255, 255)",
         "zerolinewidth": 2
        }
       }
      },
      "image/png": "[encoded data removed]",
      "text/html": [
       "<div>                            <div id=\"d12b341d-9f6f-437e-a57e-1eb6e0cab096\" class=\"plotly-graph-div\" style=\"height:525px; width:100%;\"></div>            <script type=\"text/javascript\">                require([\"plotly\"], function(Plotly) {                    window.PLOTLYENV=window.PLOTLYENV || {};                                    if (document.getElementById(\"d12b341d-9f6f-437e-a57e-1eb6e0cab096\")) {                    Plotly.newPlot(                        \"d12b341d-9f6f-437e-a57e-1eb6e0cab096\",                        [{\"boxpoints\":\"all\",\"hovertext\":[\"Alex Mercier\",\"Alexandre Blais\",\"Loic Goyette\",\"Logan Crosby\",\"Justin Gendron\"],\"jitter\":0.5,\"marker\":{\"size\":4},\"name\":\"DY-2\",\"quartilemethod\":\"linear\",\"whiskerwidth\":0.2,\"y\":[0.4286,0.2857,0.1579,0.1522,0.14],\"type\":\"box\"},{\"boxpoints\":\"all\",\"hovertext\":[\"Mathieu Cataford\",\"Ethan Gauthier\",\"Thomas Auger\",\"Andrei Loshko\",\"Tyler Peddle\",\"Cam Squires\",\"Alexis Bourque\",\"Maxime Coursol\",\"Joseph Henneberry\",\"Miles Mueller\",\"Nathan Baril\",\"Vincent Collard\",\"Mael Lavigne\",\"Justin Sullivan\",\"Justin Larose\",\"Matis Ouellet\",\"Natan Ethier\",\"Vincent Gauthier\",\"Emmanuel Vermette\",\"Mael St-Denis\",\"Justin Boisselle\",\"Julien Rod\",\"Noah Ryan\",\"Manix Sarrasin\",\"Cameron Henderson\",\"Sam Bowness\",\"Charles-Olivier Villeneuve\",\"Nicolas Hogue\",\"Sam-Luca Thifault\"],\"jitter\":0.5,\"marker\":{\"size\":4},\"name\":\"DY-1\",\"quartilemethod\":\"linear\",\"whiskerwidth\":0.2,\"y\":[0.5,0.4462,0.4419,0.4375,0.4308,0.4219,0.3333,0.3137,0.3088,0.2615,0.2615,0.2615,0.2542,0.2273,0.2034,0.2,0.2,0.1944,0.1875,0.1803,0.1667,0.1607,0.1154,0.1053,0.1,0.0652,0.0588,0.0526,0.0],\"type\":\"box\"},{\"boxpoints\":\"all\",\"hovertext\":[\"Jordan Dumais\",\"Nathan Gaucher\",\"Markus Vidicek\",\"Justin Cote\",\"Pier-Olivier Roy (02)\",\"Yoan Loshing\",\"Antonin Verreault\",\"Alexis Gendron\",\"Daniil Bourosh\",\"Maxim Barbashev\",\"Luke Woodworth\",\"Jacob Mathieu\",\"Alexis Brisson\",\"Mikael Denis\",\"Sam Oliver\",\"Thomas Begin\",\"Alex Blais\",\"Jacob Newcombe\",\"Samuel Savoie\",\"Jonathan Fauchon\",\"Louis-Philippe Fontaine\",\"Dylan Andrews\",\"Nikita Prishchepov\",\"James Swan\",\"Cam Thomson\",\"Jakub Hujer\",\"Jonas Taibel\",\"Mathis Perron\",\"Felix Gagnon\",\"Michael Horth\",\"Simon Hughes\",\"Colin Ratt\",\"Jeremie Minville\",\"Peter Repcik\",\"Yegor Goryunov\",\"Donovan Arsenault\",\"Jason Desruisseaux\",\"Cameron MacLean\",\"Braeden MacPhee\",\"Nathan Casey\",\"Leighton Carruthers\",\"Nico Laforge\",\"Hugo Primeau\",\"Matthew MacDonald\",\"Alexis Bonefon\",\"Kassim Gaudet\",\"Xavier Roy\",\"Alexandre Nadeau\",\"Jacob Lafontaine\",\"Alpha Barry\",\"Joey Vetrano\",\"Jarrett Todd\",\"Charles-Antoine Tremblay\",\"Colby Huggan\",\"Julien Paille\",\"Felix Riverin\",\"Felix Bedard\",\"Zachary Marquis-Laflamme\",\"Jean-Raphael Roy\",\"Raphael Blouin\",\"Luka Gomboc\",\"Frederic Potvin\",\"Antoine Roy\",\"Alexandre Lefebvre\",\"Lucas Canning\",\"Charles-Antoine Lavallee\",\"Markus Suchy\",\"Alexandre Lamarre\",\"Sam Archibald\",\"Kiefer Lyons\"],\"jitter\":0.5,\"marker\":{\"size\":4},\"name\":\"DY\",\"quartilemethod\":\"linear\",\"whiskerwidth\":0.2,\"y\":[1.2059,0.7121,0.6912,0.6875,0.625,0.62,0.6071,0.5758,0.5672,0.5254,0.4853,0.4706,0.4565,0.4426,0.4348,0.4324,0.4318,0.4091,0.4063,0.3594,0.3438,0.3279,0.3231,0.3214,0.3125,0.3061,0.2982,0.2692,0.2687,0.2679,0.25,0.2439,0.2407,0.2333,0.2308,0.2188,0.2167,0.2075,0.2,0.2,0.1912,0.1905,0.1833,0.1818,0.1765,0.1739,0.1724,0.1695,0.1452,0.1429,0.1404,0.14,0.1395,0.1395,0.1333,0.1333,0.1273,0.122,0.12,0.1091,0.1,0.0984,0.0984,0.0882,0.0698,0.0625,0.0588,0.0465,0.037,0.0263],\"type\":\"box\"},{\"boxpoints\":\"all\",\"hovertext\":[\"Joshua Roy\",\"Zachary Bolduc\",\"Xavier Bourgault\",\"Riley Kidney\",\"Zachary L'Heureux\",\"Olivier Nadeau\",\"Jacob Melanson\",\"Tommy Cormier\",\"Zach Dean\",\"Justin Robidas\",\"Jakub Brabenec\",\"Maxime Pellerin\",\"William Dumoulin\",\"Alexander Mirzabalayev\",\"Marshall Lessard\",\"Samuel Johnson\",\"Oleksii Myklukha\",\"James Malatesta\",\"Peter Reynolds\",\"Robert Orr\",\"Israel Mianscum\",\"Charles Boutin\",\"Cole Huckins\",\"Manix Landry\",\"Justin Gill\",\"Lorenzo Canonica\",\"Alexis Morin\",\"Viljami Marjala\",\"Alex Arsenault\",\"Xavier Filion\",\"Hakon Hanelt\",\"Cameron MacDonald\",\"Charles-Antoine Dumont\",\"Drew Elliott\",\"Louis Robin\",\"Isaac Dufort\",\"Anri Ravinskis\",\"Alexander Gaudio\",\"Anthony Di Cesare\",\"Mikael Huchette\",\"Andrew Belchamber\",\"Julien Beland\",\"Alexis Daniel\",\"Marc-Antoine Seguin\",\"Carter McCluskey\",\"Mathis Cloutier\",\"Anthony Turcotte\",\"Nolan Forster\",\"Ben Boyd\",\"Connor Trenholm\",\"Attilio Biasca\",\"Fabrice Fortin\",\"Tristan Roy\",\"Julien Hebert\",\"Zachael Turgeon\",\"Zackary Michaud\",\"Lou-Felix Denis\",\"Milo Roelens\",\"Jaheem Lagace-Aurelien\",\"Jeremy Ste-Marie\",\"Kian Bell\",\"Loic Gibeault\",\"David Doucet\",\"Jordan Cote\",\"Charles Savoie\",\"Nicolas Pavan\",\"Landon Miron\",\"Daniel Agostino\",\"Hugo Audette\",\"Emile Gadoury\",\"Xavier Sarrasin\",\"Nick Blagden\",\"Davis Cooper\",\"Julien Bourget\",\"Jack Campbell\",\"Will Chisholm\",\"Ludovic Dufort\",\"Mathys Poulin\",\"Mikhail Nizovkin\"],\"jitter\":0.5,\"marker\":{\"size\":4},\"name\":\"DY+1\",\"quartilemethod\":\"linear\",\"whiskerwidth\":0.2,\"y\":[1.4242,1.3385,1.2558,1.1212,0.913,0.8923,0.8704,0.8462,0.7872,0.7794,0.7414,0.6923,0.6615,0.6545,0.6429,0.6316,0.629,0.6176,0.5517,0.5397,0.5313,0.5283,0.5122,0.5079,0.5,0.4717,0.4627,0.4559,0.4531,0.4394,0.4375,0.4328,0.4308,0.4182,0.4151,0.4118,0.386,0.3788,0.3721,0.371,0.3636,0.3393,0.3284,0.322,0.3091,0.3065,0.3016,0.3,0.2895,0.2857,0.2821,0.2794,0.2742,0.2647,0.2308,0.225,0.2241,0.2128,0.2051,0.1967,0.1818,0.1739,0.1695,0.1667,0.1633,0.1607,0.1458,0.1429,0.1379,0.1273,0.122,0.1212,0.1194,0.1071,0.0794,0.0612,0.0426,0.0222,0.0],\"type\":\"box\"},{\"boxpoints\":\"all\",\"hovertext\":[\"Mavrik Bourque\",\"William Dufour\",\"Patrick Guay\",\"Elliot Desnoyers\",\"Theo Rochette\",\"Josh Lawrence\",\"Ryan Francis\",\"Hendrix Lapierre\",\"Philippe Daoust\",\"Evan Boucher\",\"Alexandre Doucet\",\"Ivan Ivan\",\"Raivis Ansons\",\"Luka Verreault\",\"Brady Burns\",\"Jeremy Lapointe\",\"Matej Kaslik\",\"Xavier Fortin\",\"Cole Cormier\",\"William Provost\",\"Alex Drover\",\"Thomas Belgarde\",\"Zachary Roy (02)\",\"Ben Allison\",\"William Veillette\",\"Vincent Labelle\",\"Loick Daigle\",\"Zachary Gravel\",\"Anthony Munroe-Boucher\",\"Charles Beaudoin\",\"Dawson Stairs\",\"Francis Langlois\",\"Stephane Huard\",\"Yevgeni Sapelnikov\",\"Jonah De Simone\",\"Senna Peeters\",\"Riley Bezeau\",\"Tristan Allard\",\"Patrick LeBlanc\",\"Olivier Coulombe\",\"Logan Camp\",\"Keiran Gallant\",\"Olivier Picard\",\"Owen Saye\",\"Jacob Chantler\",\"Yanic Crete\",\"Maximilien Ledoux\",\"Mathis Demers\",\"Nicolas Kingsbury-Fournier\",\"Paul Dore\",\"Alexis Dube\"],\"jitter\":0.5,\"marker\":{\"size\":4},\"name\":\"DY+2\",\"quartilemethod\":\"linear\",\"whiskerwidth\":0.2,\"y\":[1.7097,1.3636,1.2206,1.1311,1.0758,1.0588,1.037,1.0,1.0,0.8919,0.8676,0.7692,0.7679,0.6885,0.6765,0.6716,0.6667,0.661,0.6418,0.5909,0.5909,0.5797,0.5741,0.5735,0.566,0.5577,0.537,0.5152,0.4821,0.48,0.4706,0.4706,0.4697,0.4118,0.3542,0.3529,0.3393,0.3235,0.32,0.3134,0.2969,0.2941,0.2097,0.2034,0.1944,0.1905,0.14,0.119,0.1136,0.0769,0.0],\"type\":\"box\"},{\"boxpoints\":\"all\",\"hovertext\":[\"Xavier Simoneau\",\"Felix Lafrance\",\"Xavier Parent\",\"Bennett MacArthur\",\"Xavier Cormier\",\"Simon Pinard\",\"William Rouleau\",\"Jeremy Michel\",\"Brett Budgell\",\"Brooklyn Kalmikov\",\"Pierrick Dube\",\"Mathieu Bizier\",\"Jacob Gaucher\",\"Julien Anctil\",\"Benjamin Corbeil\",\"Conor Frenette\",\"Kieran Craig\",\"Nicholas Girouard\",\"Charlie Da Fonseca\",\"Mathieu Gagnon\",\"Christophe Farmer\",\"Emile Hegarty-Aubin\",\"Zack Jones\",\"Logan Chisholm\",\"Zachary Beauregard\",\"Jeremy Martin\",\"Jacob Stewart\",\"Edouard Charron\",\"Ludovic Soucy\",\"Tristan Pelletier\",\"Liam Kidney\"],\"jitter\":0.5,\"marker\":{\"size\":4},\"name\":\"DY+3\",\"quartilemethod\":\"linear\",\"whiskerwidth\":0.2,\"y\":[1.3333,1.3333,1.3231,1.2407,1.1321,1.1194,1.0,1.0,0.9552,0.9403,0.9167,0.8235,0.8182,0.806,0.7794,0.7727,0.7667,0.6875,0.6,0.5714,0.4828,0.4545,0.4545,0.4444,0.377,0.3556,0.3103,0.3051,0.2951,0.2667,0.2407],\"type\":\"box\"}],                        {\"template\":{\"data\":{\"histogram2dcontour\":[{\"type\":\"histogram2dcontour\",\"colorbar\":{\"outlinewidth\":0,\"ticks\":\"\"},\"colorscale\":[[0.0,\"#0d0887\"],[0.1111111111111111,\"#46039f\"],[0.2222222222222222,\"#7201a8\"],[0.3333333333333333,\"#9c179e\"],[0.4444444444444444,\"#bd3786\"],[0.5555555555555556,\"#d8576b\"],[0.6666666666666666,\"#ed7953\"],[0.7777777777777778,\"#fb9f3a\"],[0.8888888888888888,\"#fdca26\"],[1.0,\"#f0f921\"]]}],\"choropleth\":[{\"type\":\"choropleth\",\"colorbar\":{\"outlinewidth\":0,\"ticks\":\"\"}}],\"histogram2d\":[{\"type\":\"histogram2d\",\"colorbar\":{\"outlinewidth\":0,\"ticks\":\"\"},\"colorscale\":[[0.0,\"#0d0887\"],[0.1111111111111111,\"#46039f\"],[0.2222222222222222,\"#7201a8\"],[0.3333333333333333,\"#9c179e\"],[0.4444444444444444,\"#bd3786\"],[0.5555555555555556,\"#d8576b\"],[0.6666666666666666,\"#ed7953\"],[0.7777777777777778,\"#fb9f3a\"],[0.8888888888888888,\"#fdca26\"],[1.0,\"#f0f921\"]]}],\"heatmap\":[{\"type\":\"heatmap\",\"colorbar\":{\"outlinewidth\":0,\"ticks\":\"\"},\"colorscale\":[[0.0,\"#0d0887\"],[0.1111111111111111,\"#46039f\"],[0.2222222222222222,\"#7201a8\"],[0.3333333333333333,\"#9c179e\"],[0.4444444444444444,\"#bd3786\"],[0.5555555555555556,\"#d8576b\"],[0.6666666666666666,\"#ed7953\"],[0.7777777777777778,\"#fb9f3a\"],[0.8888888888888888,\"#fdca26\"],[1.0,\"#f0f921\"]]}],\"heatmapgl\":[{\"type\":\"heatmapgl\",\"colorbar\":{\"outlinewidth\":0,\"ticks\":\"\"},\"colorscale\":[[0.0,\"#0d0887\"],[0.1111111111111111,\"#46039f\"],[0.2222222222222222,\"#7201a8\"],[0.3333333333333333,\"#9c179e\"],[0.4444444444444444,\"#bd3786\"],[0.5555555555555556,\"#d8576b\"],[0.6666666666666666,\"#ed7953\"],[0.7777777777777778,\"#fb9f3a\"],[0.8888888888888888,\"#fdca26\"],[1.0,\"#f0f921\"]]}],\"contourcarpet\":[{\"type\":\"contourcarpet\",\"colorbar\":{\"outlinewidth\":0,\"ticks\":\"\"}}],\"contour\":[{\"type\":\"contour\",\"colorbar\":{\"outlinewidth\":0,\"ticks\":\"\"},\"colorscale\":[[0.0,\"#0d0887\"],[0.1111111111111111,\"#46039f\"],[0.2222222222222222,\"#7201a8\"],[0.3333333333333333,\"#9c179e\"],[0.4444444444444444,\"#bd3786\"],[0.5555555555555556,\"#d8576b\"],[0.6666666666666666,\"#ed7953\"],[0.7777777777777778,\"#fb9f3a\"],[0.8888888888888888,\"#fdca26\"],[1.0,\"#f0f921\"]]}],\"surface\":[{\"type\":\"surface\",\"colorbar\":{\"outlinewidth\":0,\"ticks\":\"\"},\"colorscale\":[[0.0,\"#0d0887\"],[0.1111111111111111,\"#46039f\"],[0.2222222222222222,\"#7201a8\"],[0.3333333333333333,\"#9c179e\"],[0.4444444444444444,\"#bd3786\"],[0.5555555555555556,\"#d8576b\"],[0.6666666666666666,\"#ed7953\"],[0.7777777777777778,\"#fb9f3a\"],[0.8888888888888888,\"#fdca26\"],[1.0,\"#f0f921\"]]}],\"mesh3d\":[{\"type\":\"mesh3d\",\"colorbar\":{\"outlinewidth\":0,\"ticks\":\"\"}}],\"scatter\":[{\"fillpattern\":{\"fillmode\":\"overlay\",\"size\":10,\"solidity\":0.2},\"type\":\"scatter\"}],\"parcoords\":[{\"type\":\"parcoords\",\"line\":{\"colorbar\":{\"outlinewidth\":0,\"ticks\":\"\"}}}],\"scatterpolargl\":[{\"type\":\"scatterpolargl\",\"marker\":{\"colorbar\":{\"outlinewidth\":0,\"ticks\":\"\"}}}],\"bar\":[{\"error_x\":{\"color\":\"#2a3f5f\"},\"error_y\":{\"color\":\"#2a3f5f\"},\"marker\":{\"line\":{\"color\":\"#E5ECF6\",\"width\":0.5},\"pattern\":{\"fillmode\":\"overlay\",\"size\":10,\"solidity\":0.2}},\"type\":\"bar\"}],\"scattergeo\":[{\"type\":\"scattergeo\",\"marker\":{\"colorbar\":{\"outlinewidth\":0,\"ticks\":\"\"}}}],\"scatterpolar\":[{\"type\":\"scatterpolar\",\"marker\":{\"colorbar\":{\"outlinewidth\":0,\"ticks\":\"\"}}}],\"histogram\":[{\"marker\":{\"pattern\":{\"fillmode\":\"overlay\",\"size\":10,\"solidity\":0.2}},\"type\":\"histogram\"}],\"scattergl\":[{\"type\":\"scattergl\",\"marker\":{\"colorbar\":{\"outlinewidth\":0,\"ticks\":\"\"}}}],\"scatter3d\":[{\"type\":\"scatter3d\",\"line\":{\"colorbar\":{\"outlinewidth\":0,\"ticks\":\"\"}},\"marker\":{\"colorbar\":{\"outlinewidth\":0,\"ticks\":\"\"}}}],\"scattermapbox\":[{\"type\":\"scattermapbox\",\"marker\":{\"colorbar\":{\"outlinewidth\":0,\"ticks\":\"\"}}}],\"scatterternary\":[{\"type\":\"scatterternary\",\"marker\":{\"colorbar\":{\"outlinewidth\":0,\"ticks\":\"\"}}}],\"scattercarpet\":[{\"type\":\"scattercarpet\",\"marker\":{\"colorbar\":{\"outlinewidth\":0,\"ticks\":\"\"}}}],\"carpet\":[{\"aaxis\":{\"endlinecolor\":\"#2a3f5f\",\"gridcolor\":\"white\",\"linecolor\":\"white\",\"minorgridcolor\":\"white\",\"startlinecolor\":\"#2a3f5f\"},\"baxis\":{\"endlinecolor\":\"#2a3f5f\",\"gridcolor\":\"white\",\"linecolor\":\"white\",\"minorgridcolor\":\"white\",\"startlinecolor\":\"#2a3f5f\"},\"type\":\"carpet\"}],\"table\":[{\"cells\":{\"fill\":{\"color\":\"#EBF0F8\"},\"line\":{\"color\":\"white\"}},\"header\":{\"fill\":{\"color\":\"#C8D4E3\"},\"line\":{\"color\":\"white\"}},\"type\":\"table\"}],\"barpolar\":[{\"marker\":{\"line\":{\"color\":\"#E5ECF6\",\"width\":0.5},\"pattern\":{\"fillmode\":\"overlay\",\"size\":10,\"solidity\":0.2}},\"type\":\"barpolar\"}],\"pie\":[{\"automargin\":true,\"type\":\"pie\"}]},\"layout\":{\"autotypenumbers\":\"strict\",\"colorway\":[\"#636efa\",\"#EF553B\",\"#00cc96\",\"#ab63fa\",\"#FFA15A\",\"#19d3f3\",\"#FF6692\",\"#B6E880\",\"#FF97FF\",\"#FECB52\"],\"font\":{\"color\":\"#2a3f5f\"},\"hovermode\":\"closest\",\"hoverlabel\":{\"align\":\"left\"},\"paper_bgcolor\":\"white\",\"plot_bgcolor\":\"#E5ECF6\",\"polar\":{\"bgcolor\":\"#E5ECF6\",\"angularaxis\":{\"gridcolor\":\"white\",\"linecolor\":\"white\",\"ticks\":\"\"},\"radialaxis\":{\"gridcolor\":\"white\",\"linecolor\":\"white\",\"ticks\":\"\"}},\"ternary\":{\"bgcolor\":\"#E5ECF6\",\"aaxis\":{\"gridcolor\":\"white\",\"linecolor\":\"white\",\"ticks\":\"\"},\"baxis\":{\"gridcolor\":\"white\",\"linecolor\":\"white\",\"ticks\":\"\"},\"caxis\":{\"gridcolor\":\"white\",\"linecolor\":\"white\",\"ticks\":\"\"}},\"coloraxis\":{\"colorbar\":{\"outlinewidth\":0,\"ticks\":\"\"}},\"colorscale\":{\"sequential\":[[0.0,\"#0d0887\"],[0.1111111111111111,\"#46039f\"],[0.2222222222222222,\"#7201a8\"],[0.3333333333333333,\"#9c179e\"],[0.4444444444444444,\"#bd3786\"],[0.5555555555555556,\"#d8576b\"],[0.6666666666666666,\"#ed7953\"],[0.7777777777777778,\"#fb9f3a\"],[0.8888888888888888,\"#fdca26\"],[1.0,\"#f0f921\"]],\"sequentialminus\":[[0.0,\"#0d0887\"],[0.1111111111111111,\"#46039f\"],[0.2222222222222222,\"#7201a8\"],[0.3333333333333333,\"#9c179e\"],[0.4444444444444444,\"#bd3786\"],[0.5555555555555556,\"#d8576b\"],[0.6666666666666666,\"#ed7953\"],[0.7777777777777778,\"#fb9f3a\"],[0.8888888888888888,\"#fdca26\"],[1.0,\"#f0f921\"]],\"diverging\":[[0,\"#8e0152\"],[0.1,\"#c51b7d\"],[0.2,\"#de77ae\"],[0.3,\"#f1b6da\"],[0.4,\"#fde0ef\"],[0.5,\"#f7f7f7\"],[0.6,\"#e6f5d0\"],[0.7,\"#b8e186\"],[0.8,\"#7fbc41\"],[0.9,\"#4d9221\"],[1,\"#276419\"]]},\"xaxis\":{\"gridcolor\":\"white\",\"linecolor\":\"white\",\"ticks\":\"\",\"title\":{\"standoff\":15},\"zerolinecolor\":\"white\",\"automargin\":true,\"zerolinewidth\":2},\"yaxis\":{\"gridcolor\":\"white\",\"linecolor\":\"white\",\"ticks\":\"\",\"title\":{\"standoff\":15},\"zerolinecolor\":\"white\",\"automargin\":true,\"zerolinewidth\":2},\"scene\":{\"xaxis\":{\"backgroundcolor\":\"#E5ECF6\",\"gridcolor\":\"white\",\"linecolor\":\"white\",\"showbackground\":true,\"ticks\":\"\",\"zerolinecolor\":\"white\",\"gridwidth\":2},\"yaxis\":{\"backgroundcolor\":\"#E5ECF6\",\"gridcolor\":\"white\",\"linecolor\":\"white\",\"showbackground\":true,\"ticks\":\"\",\"zerolinecolor\":\"white\",\"gridwidth\":2},\"zaxis\":{\"backgroundcolor\":\"#E5ECF6\",\"gridcolor\":\"white\",\"linecolor\":\"white\",\"showbackground\":true,\"ticks\":\"\",\"zerolinecolor\":\"white\",\"gridwidth\":2}},\"shapedefaults\":{\"line\":{\"color\":\"#2a3f5f\"}},\"annotationdefaults\":{\"arrowcolor\":\"#2a3f5f\",\"arrowhead\":0,\"arrowwidth\":1},\"geo\":{\"bgcolor\":\"white\",\"landcolor\":\"#E5ECF6\",\"subunitcolor\":\"white\",\"showland\":true,\"showlakes\":true,\"lakecolor\":\"white\"},\"title\":{\"x\":0.05},\"mapbox\":{\"style\":\"light\"}}},\"yaxis\":{\"autorange\":true,\"showgrid\":true,\"zeroline\":true,\"dtick\":0.3,\"gridcolor\":\"rgb(255, 255, 255)\",\"gridwidth\":1,\"zerolinecolor\":\"rgb(255, 255, 255)\",\"zerolinewidth\":2},\"margin\":{\"l\":40,\"r\":30,\"b\":80,\"t\":100},\"title\":{\"text\":\"Forwards Point per game in the QMJHL per DY status in 2022\"},\"paper_bgcolor\":\"rgb(243, 243, 243)\",\"plot_bgcolor\":\"rgb(243, 243, 243)\",\"showlegend\":false},                        {\"responsive\": true}                    ).then(function(){\n",
       "                            \n",
       "var gd = document.getElementById('d12b341d-9f6f-437e-a57e-1eb6e0cab096');\n",
       "var x = new MutationObserver(function (mutations, observer) {{\n",
       "        var display = window.getComputedStyle(gd).display;\n",
       "        if (!display || display === 'none') {{\n",
       "            console.log([gd, 'removed!']);\n",
       "            Plotly.purge(gd);\n",
       "            observer.disconnect();\n",
       "        }}\n",
       "}});\n",
       "\n",
       "// Listen for the removal of the full notebook cells\n",
       "var notebookContainer = gd.closest('#notebook-container');\n",
       "if (notebookContainer) {{\n",
       "    x.observe(notebookContainer, {childList: true});\n",
       "}}\n",
       "\n",
       "// Listen for the clearing of the current output cell\n",
       "var outputEl = gd.closest('.output');\n",
       "if (outputEl) {{\n",
       "    x.observe(outputEl, {childList: true});\n",
       "}}\n",
       "\n",
       "                        })                };                });            </script>        </div>"
      ]
     },
     "metadata": {},
     "output_type": "display_data"
    }
   ],
   "source": [
    "import plotly.graph_objects as go\n",
    "\n",
    "fig = go.Figure()\n",
    "for DY_value in ['DY-2', 'DY-1',\"DY\",'DY+1', 'DY+2', 'DY+3']:\n",
    "    fig.add_trace(go.Box(y=df[(df[\"DY+/-\"] == DY_value) & (df[\"POS\"] == \"F\")][\"P1/GP\"],\n",
    "                         quartilemethod=\"linear\",\n",
    "                         name=DY_value,\n",
    "                         boxpoints='all',\n",
    "                        jitter=0.5,\n",
    "                         whiskerwidth=0.2,\n",
    "                        marker_size=4,\n",
    "                        hovertext=df[(df[\"DY+/-\"] == DY_value) & (df[\"POS\"] == \"F\")].NAME))\n",
    "\n",
    "fig.update_layout(\n",
    "    title='Forwards Point per game in the QMJHL per DY status in 2022',\n",
    "    yaxis=dict(\n",
    "        autorange=True,\n",
    "        showgrid=True,\n",
    "        zeroline=True,\n",
    "        dtick=.3,\n",
    "        gridcolor='rgb(255, 255, 255)',\n",
    "        gridwidth=1,\n",
    "        zerolinecolor='rgb(255, 255, 255)',\n",
    "        zerolinewidth=2,\n",
    "    ),\n",
    "    margin=dict(\n",
    "        l=40,\n",
    "        r=30,\n",
    "        b=80,\n",
    "        t=100,\n",
    "    ),\n",
    "    paper_bgcolor='rgb(243, 243, 243)',\n",
    "    plot_bgcolor='rgb(243, 243, 243)',\n",
    "    showlegend=False\n",
    ")\n",
    "\n",
    "\n",
    "\n",
    "fig.show()"
   ]
  },
  {
   "cell_type": "code",
   "execution_count": 8,
   "id": "f8e2e300-44bf-49ff-84ab-30abe07d7531",
   "metadata": {},
   "outputs": [
    {
     "data": {
      "text/plain": [
       "['DY+2', 'DY+1', 'DY+3', 'DY', 'DY-1', 'DY-2']"
      ]
     },
     "execution_count": 8,
     "metadata": {},
     "output_type": "execute_result"
    }
   ],
   "source": [
    "df[\"DY+/-\"].unique().tolist()"
   ]
  },
  {
   "cell_type": "code",
   "execution_count": null,
   "id": "17e0edf0-0ee8-4a04-aa07-065ad72ce6c9",
   "metadata": {},
   "outputs": [],
   "source": []
  }
 ],
 "metadata": {
  "kernelspec": {
   "display_name": "Python 3 (ipykernel)",
   "language": "python",
   "name": "python3"
  },
  "language_info": {
   "codemirror_mode": {
    "name": "ipython",
    "version": 3
   },
   "file_extension": ".py",
   "mimetype": "text/x-python",
   "name": "python",
   "nbconvert_exporter": "python",
   "pygments_lexer": "ipython3",
   "version": "3.9.12"
  }
 },
 "nbformat": 4,
 "nbformat_minor": 5
}
